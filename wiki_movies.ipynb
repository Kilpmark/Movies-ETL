{
 "cells": [
  {
   "cell_type": "code",
   "execution_count": 252,
   "id": "6e99b7a9",
   "metadata": {},
   "outputs": [],
   "source": [
    "import json\n",
    "import pandas as pd\n",
    "import numpy as np\n",
    "import re"
   ]
  },
  {
   "cell_type": "code",
   "execution_count": 253,
   "id": "0da18745",
   "metadata": {},
   "outputs": [],
   "source": [
    "file_load = \"wikipedia-movies.json\""
   ]
  },
  {
   "cell_type": "code",
   "execution_count": 254,
   "id": "1a142eff",
   "metadata": {},
   "outputs": [],
   "source": [
    "with open(file_load, mode='r') as file:\n",
    "    wiki_movies_raw = json.load(file)"
   ]
  },
  {
   "cell_type": "code",
   "execution_count": 255,
   "id": "8aac8b0a",
   "metadata": {},
   "outputs": [
    {
     "data": {
      "text/plain": [
       "7311"
      ]
     },
     "execution_count": 255,
     "metadata": {},
     "output_type": "execute_result"
    }
   ],
   "source": [
    "len(wiki_movies_raw)"
   ]
  },
  {
   "cell_type": "code",
   "execution_count": 256,
   "id": "9e6c34e8",
   "metadata": {},
   "outputs": [
    {
     "data": {
      "text/plain": [
       "list"
      ]
     },
     "execution_count": 256,
     "metadata": {},
     "output_type": "execute_result"
    }
   ],
   "source": [
    "type(wiki_movies_raw)"
   ]
  },
  {
   "cell_type": "code",
   "execution_count": 257,
   "id": "221095d3",
   "metadata": {},
   "outputs": [],
   "source": [
    "wiki_movies_df = pd.DataFrame(wiki_movies_raw)"
   ]
  },
  {
   "cell_type": "code",
   "execution_count": 258,
   "id": "2157b3dc",
   "metadata": {},
   "outputs": [],
   "source": [
    "#wiki_movies_df.columns.tolist()"
   ]
  },
  {
   "cell_type": "code",
   "execution_count": 259,
   "id": "3f43c8ca",
   "metadata": {},
   "outputs": [
    {
     "data": {
      "text/plain": [
       "7076"
      ]
     },
     "execution_count": 259,
     "metadata": {},
     "output_type": "execute_result"
    }
   ],
   "source": [
    "# Filter by movies with a director (director or directed by) and an IMDB link\n",
    "\n",
    "wiki_movies = [movie for movie in wiki_movies_raw\n",
    "                  if('Director' in movie or 'Directed by' in movie)\n",
    "                   and 'imdb_link' in movie\n",
    "                    and 'No. of episodes' not in movie]\n",
    "len(wiki_movies)"
   ]
  },
  {
   "cell_type": "code",
   "execution_count": 260,
   "id": "dd61bd13",
   "metadata": {},
   "outputs": [],
   "source": [
    "def clean_movie(movie):\n",
    "    \n",
    "    \n",
    "    \n",
    "    movie = dict(movie)\n",
    "    \n",
    "    alt_titles = dict()\n",
    "    alt_title_col = ['Also known as', 'Arabic', 'Cantonese', 'Chinese', 'French', 'Hangul', 'Hebrew', 'Hepburn', 'Japanese',\n",
    "                     'Literally',  'Mandarin', 'McCune–Reischauer', 'Original title', 'Polish',\n",
    "                     'Revised Romanization', 'Romanized', 'Russian', 'Simplified', 'Traditional', 'Yiddish']\n",
    "    for key in alt_title_col:\n",
    "            \n",
    "        if key in movie:\n",
    "                \n",
    "            alt_titles[key] = movie[key]\n",
    "            movie.pop(key)\n",
    "            \n",
    "        if len(alt_titles) > 0:\n",
    "                \n",
    "             movie['alt_titles'] = alt_titles\n",
    "    \n",
    "    def change_column_name(old_name, new_name):\n",
    "        if old_name in movie:\n",
    "            movie[new_name] = movie.pop(old_name)\n",
    "            \n",
    "    change_column_name('Adaptation by', 'Writer(s)')\n",
    "    change_column_name('Country of origin', 'Country')\n",
    "    change_column_name('Directed by', 'Director')\n",
    "    change_column_name('Distributed by', 'Distributor')\n",
    "    change_column_name('Edited by', 'Editor(s)')\n",
    "    change_column_name('Length', 'Running time')\n",
    "    change_column_name('Original release', 'Release date')\n",
    "    change_column_name('Music by', 'Composer(s)')\n",
    "    change_column_name('Produced by', 'Producer(s)')\n",
    "    change_column_name('Producer', 'Producer(s)')\n",
    "    change_column_name('Productioncompanies ', 'Production company(s)')\n",
    "    change_column_name('Productioncompany ', 'Production company(s)')\n",
    "    change_column_name('Released', 'Release Date')\n",
    "    change_column_name('Release Date', 'Release date')\n",
    "    change_column_name('Screen story by', 'Writer(s)')\n",
    "    change_column_name('Screenplay by', 'Writer(s)')\n",
    "    change_column_name('Story by', 'Writer(s)')\n",
    "    change_column_name('Theme music composer', 'Composer(s)')\n",
    "    change_column_name('Written by', 'Writer(s)')\n",
    "\n",
    "    \n",
    "    return movie"
   ]
  },
  {
   "cell_type": "code",
   "execution_count": 261,
   "id": "39e43fd9",
   "metadata": {},
   "outputs": [],
   "source": [
    "#sorted(wiki_movies_df.columns.tolist())"
   ]
  },
  {
   "cell_type": "code",
   "execution_count": 262,
   "id": "7fc30ec2",
   "metadata": {},
   "outputs": [],
   "source": [
    "#clean_movies = [clean_movie(movie) for movie in wiki_movies]"
   ]
  },
  {
   "cell_type": "code",
   "execution_count": 263,
   "id": "b6e726b1",
   "metadata": {},
   "outputs": [],
   "source": [
    "#wiki_movies_df = pd.DataFrame(clean_movies)\n",
    "#sorted(wiki_movies_df.columns.tolist())"
   ]
  },
  {
   "cell_type": "code",
   "execution_count": 264,
   "id": "238bc063",
   "metadata": {},
   "outputs": [],
   "source": [
    "clean_movies = [clean_movie(movie) for movie in wiki_movies]\n",
    "wiki_movies_df = pd.DataFrame(clean_movies)\n",
    "#sorted(wiki_movies_df.columns.tolist())"
   ]
  },
  {
   "cell_type": "code",
   "execution_count": 265,
   "id": "eeba782c",
   "metadata": {},
   "outputs": [
    {
     "name": "stdout",
     "output_type": "stream",
     "text": [
      "7076\n",
      "7033\n"
     ]
    },
    {
     "data": {
      "text/html": [
       "<div>\n",
       "<style scoped>\n",
       "    .dataframe tbody tr th:only-of-type {\n",
       "        vertical-align: middle;\n",
       "    }\n",
       "\n",
       "    .dataframe tbody tr th {\n",
       "        vertical-align: top;\n",
       "    }\n",
       "\n",
       "    .dataframe thead th {\n",
       "        text-align: right;\n",
       "    }\n",
       "</style>\n",
       "<table border=\"1\" class=\"dataframe\">\n",
       "  <thead>\n",
       "    <tr style=\"text-align: right;\">\n",
       "      <th></th>\n",
       "      <th>url</th>\n",
       "      <th>year</th>\n",
       "      <th>imdb_link</th>\n",
       "      <th>title</th>\n",
       "      <th>Based on</th>\n",
       "      <th>Starring</th>\n",
       "      <th>Narrated by</th>\n",
       "      <th>Cinematography</th>\n",
       "      <th>Release date</th>\n",
       "      <th>Running time</th>\n",
       "      <th>...</th>\n",
       "      <th>Created by</th>\n",
       "      <th>Preceded by</th>\n",
       "      <th>Suggested by</th>\n",
       "      <th>alt_titles</th>\n",
       "      <th>Recorded</th>\n",
       "      <th>Venue</th>\n",
       "      <th>Label</th>\n",
       "      <th>Animation by</th>\n",
       "      <th>Color process</th>\n",
       "      <th>imdb_id</th>\n",
       "    </tr>\n",
       "  </thead>\n",
       "  <tbody>\n",
       "    <tr>\n",
       "      <th>0</th>\n",
       "      <td>https://en.wikipedia.org/wiki/The_Adventures_o...</td>\n",
       "      <td>1990</td>\n",
       "      <td>https://www.imdb.com/title/tt0098987/</td>\n",
       "      <td>The Adventures of Ford Fairlane</td>\n",
       "      <td>[Characters, by Rex Weiner]</td>\n",
       "      <td>[Andrew Dice Clay, Wayne Newton, Priscilla Pre...</td>\n",
       "      <td>Andrew \"Dice\" Clay</td>\n",
       "      <td>Oliver Wood</td>\n",
       "      <td>[July 11, 1990, (, 1990-07-11, )]</td>\n",
       "      <td>102 minutes</td>\n",
       "      <td>...</td>\n",
       "      <td>NaN</td>\n",
       "      <td>NaN</td>\n",
       "      <td>NaN</td>\n",
       "      <td>NaN</td>\n",
       "      <td>NaN</td>\n",
       "      <td>NaN</td>\n",
       "      <td>NaN</td>\n",
       "      <td>NaN</td>\n",
       "      <td>NaN</td>\n",
       "      <td>tt0098987</td>\n",
       "    </tr>\n",
       "    <tr>\n",
       "      <th>1</th>\n",
       "      <td>https://en.wikipedia.org/wiki/After_Dark,_My_S...</td>\n",
       "      <td>1990</td>\n",
       "      <td>https://www.imdb.com/title/tt0098994/</td>\n",
       "      <td>After Dark, My Sweet</td>\n",
       "      <td>[the novel, After Dark, My Sweet, by, Jim Thom...</td>\n",
       "      <td>[Jason Patric, Rachel Ward, Bruce Dern, George...</td>\n",
       "      <td>NaN</td>\n",
       "      <td>Mark Plummer</td>\n",
       "      <td>[May 17, 1990, (, 1990-05-17, ), (Cannes Film ...</td>\n",
       "      <td>114 minutes</td>\n",
       "      <td>...</td>\n",
       "      <td>NaN</td>\n",
       "      <td>NaN</td>\n",
       "      <td>NaN</td>\n",
       "      <td>NaN</td>\n",
       "      <td>NaN</td>\n",
       "      <td>NaN</td>\n",
       "      <td>NaN</td>\n",
       "      <td>NaN</td>\n",
       "      <td>NaN</td>\n",
       "      <td>tt0098994</td>\n",
       "    </tr>\n",
       "    <tr>\n",
       "      <th>2</th>\n",
       "      <td>https://en.wikipedia.org/wiki/Air_America_(film)</td>\n",
       "      <td>1990</td>\n",
       "      <td>https://www.imdb.com/title/tt0099005/</td>\n",
       "      <td>Air America</td>\n",
       "      <td>[Air America, by, Christopher Robbins]</td>\n",
       "      <td>[Mel Gibson, Robert Downey Jr., Nancy Travis, ...</td>\n",
       "      <td>NaN</td>\n",
       "      <td>Roger Deakins</td>\n",
       "      <td>[August 10, 1990, (, 1990-08-10, )]</td>\n",
       "      <td>113 minutes</td>\n",
       "      <td>...</td>\n",
       "      <td>NaN</td>\n",
       "      <td>NaN</td>\n",
       "      <td>NaN</td>\n",
       "      <td>NaN</td>\n",
       "      <td>NaN</td>\n",
       "      <td>NaN</td>\n",
       "      <td>NaN</td>\n",
       "      <td>NaN</td>\n",
       "      <td>NaN</td>\n",
       "      <td>tt0099005</td>\n",
       "    </tr>\n",
       "    <tr>\n",
       "      <th>3</th>\n",
       "      <td>https://en.wikipedia.org/wiki/Alice_(1990_film)</td>\n",
       "      <td>1990</td>\n",
       "      <td>https://www.imdb.com/title/tt0099012/</td>\n",
       "      <td>Alice</td>\n",
       "      <td>NaN</td>\n",
       "      <td>[Alec Baldwin, Blythe Danner, Judy Davis, Mia ...</td>\n",
       "      <td>NaN</td>\n",
       "      <td>Carlo Di Palma</td>\n",
       "      <td>[December 25, 1990, (, 1990-12-25, )]</td>\n",
       "      <td>106 minutes</td>\n",
       "      <td>...</td>\n",
       "      <td>NaN</td>\n",
       "      <td>NaN</td>\n",
       "      <td>NaN</td>\n",
       "      <td>NaN</td>\n",
       "      <td>NaN</td>\n",
       "      <td>NaN</td>\n",
       "      <td>NaN</td>\n",
       "      <td>NaN</td>\n",
       "      <td>NaN</td>\n",
       "      <td>tt0099012</td>\n",
       "    </tr>\n",
       "    <tr>\n",
       "      <th>4</th>\n",
       "      <td>https://en.wikipedia.org/wiki/Almost_an_Angel</td>\n",
       "      <td>1990</td>\n",
       "      <td>https://www.imdb.com/title/tt0099018/</td>\n",
       "      <td>Almost an Angel</td>\n",
       "      <td>NaN</td>\n",
       "      <td>[Paul Hogan, Elias Koteas, Linda Kozlowski]</td>\n",
       "      <td>NaN</td>\n",
       "      <td>Russell Boyd</td>\n",
       "      <td>December 19, 1990</td>\n",
       "      <td>95 minutes</td>\n",
       "      <td>...</td>\n",
       "      <td>NaN</td>\n",
       "      <td>NaN</td>\n",
       "      <td>NaN</td>\n",
       "      <td>NaN</td>\n",
       "      <td>NaN</td>\n",
       "      <td>NaN</td>\n",
       "      <td>NaN</td>\n",
       "      <td>NaN</td>\n",
       "      <td>NaN</td>\n",
       "      <td>tt0099018</td>\n",
       "    </tr>\n",
       "  </tbody>\n",
       "</table>\n",
       "<p>5 rows × 40 columns</p>\n",
       "</div>"
      ],
      "text/plain": [
       "                                                 url  year  \\\n",
       "0  https://en.wikipedia.org/wiki/The_Adventures_o...  1990   \n",
       "1  https://en.wikipedia.org/wiki/After_Dark,_My_S...  1990   \n",
       "2   https://en.wikipedia.org/wiki/Air_America_(film)  1990   \n",
       "3    https://en.wikipedia.org/wiki/Alice_(1990_film)  1990   \n",
       "4      https://en.wikipedia.org/wiki/Almost_an_Angel  1990   \n",
       "\n",
       "                               imdb_link                            title  \\\n",
       "0  https://www.imdb.com/title/tt0098987/  The Adventures of Ford Fairlane   \n",
       "1  https://www.imdb.com/title/tt0098994/             After Dark, My Sweet   \n",
       "2  https://www.imdb.com/title/tt0099005/                      Air America   \n",
       "3  https://www.imdb.com/title/tt0099012/                            Alice   \n",
       "4  https://www.imdb.com/title/tt0099018/                  Almost an Angel   \n",
       "\n",
       "                                            Based on  \\\n",
       "0                        [Characters, by Rex Weiner]   \n",
       "1  [the novel, After Dark, My Sweet, by, Jim Thom...   \n",
       "2             [Air America, by, Christopher Robbins]   \n",
       "3                                                NaN   \n",
       "4                                                NaN   \n",
       "\n",
       "                                            Starring         Narrated by  \\\n",
       "0  [Andrew Dice Clay, Wayne Newton, Priscilla Pre...  Andrew \"Dice\" Clay   \n",
       "1  [Jason Patric, Rachel Ward, Bruce Dern, George...                 NaN   \n",
       "2  [Mel Gibson, Robert Downey Jr., Nancy Travis, ...                 NaN   \n",
       "3  [Alec Baldwin, Blythe Danner, Judy Davis, Mia ...                 NaN   \n",
       "4        [Paul Hogan, Elias Koteas, Linda Kozlowski]                 NaN   \n",
       "\n",
       "   Cinematography                                       Release date  \\\n",
       "0     Oliver Wood                  [July 11, 1990, (, 1990-07-11, )]   \n",
       "1    Mark Plummer  [May 17, 1990, (, 1990-05-17, ), (Cannes Film ...   \n",
       "2   Roger Deakins                [August 10, 1990, (, 1990-08-10, )]   \n",
       "3  Carlo Di Palma              [December 25, 1990, (, 1990-12-25, )]   \n",
       "4    Russell Boyd                                  December 19, 1990   \n",
       "\n",
       "  Running time  ... Created by Preceded by Suggested by alt_titles Recorded  \\\n",
       "0  102 minutes  ...        NaN         NaN          NaN        NaN      NaN   \n",
       "1  114 minutes  ...        NaN         NaN          NaN        NaN      NaN   \n",
       "2  113 minutes  ...        NaN         NaN          NaN        NaN      NaN   \n",
       "3  106 minutes  ...        NaN         NaN          NaN        NaN      NaN   \n",
       "4   95 minutes  ...        NaN         NaN          NaN        NaN      NaN   \n",
       "\n",
       "  Venue Label Animation by Color process    imdb_id  \n",
       "0   NaN   NaN          NaN           NaN  tt0098987  \n",
       "1   NaN   NaN          NaN           NaN  tt0098994  \n",
       "2   NaN   NaN          NaN           NaN  tt0099005  \n",
       "3   NaN   NaN          NaN           NaN  tt0099012  \n",
       "4   NaN   NaN          NaN           NaN  tt0099018  \n",
       "\n",
       "[5 rows x 40 columns]"
      ]
     },
     "execution_count": 265,
     "metadata": {},
     "output_type": "execute_result"
    }
   ],
   "source": [
    "wiki_movies_df['imdb_id'] = wiki_movies_df['imdb_link'].str.extract(r'(tt\\d{7})')\n",
    "print(len(wiki_movies_df))\n",
    "wiki_movies_df.drop_duplicates(subset='imdb_id', inplace=True)\n",
    "print(len(wiki_movies_df))\n",
    "wiki_movies_df.head()"
   ]
  },
  {
   "cell_type": "code",
   "execution_count": 266,
   "id": "7bbb0a17",
   "metadata": {},
   "outputs": [],
   "source": [
    "wiki_columns_to_keep = [column for column in wiki_movies_df.columns if wiki_movies_df[column].isnull().sum() < len(wiki_movies_df) * 0.9]\n",
    "wiki_movies_df = wiki_movies_df[wiki_columns_to_keep]"
   ]
  },
  {
   "cell_type": "code",
   "execution_count": 267,
   "id": "23a79c03",
   "metadata": {},
   "outputs": [
    {
     "data": {
      "text/plain": [
       "5485"
      ]
     },
     "execution_count": 267,
     "metadata": {},
     "output_type": "execute_result"
    }
   ],
   "source": [
    "box_office = wiki_movies_df['Box office'].dropna()\n",
    "len(box_office)"
   ]
  },
  {
   "cell_type": "code",
   "execution_count": 268,
   "id": "fa15d230",
   "metadata": {},
   "outputs": [],
   "source": [
    "def is_not_a_string(x):\n",
    "    return type(x) != str"
   ]
  },
  {
   "cell_type": "code",
   "execution_count": 269,
   "id": "8bc22477",
   "metadata": {},
   "outputs": [
    {
     "data": {
      "text/plain": [
       "34                           [US$, 4,212,828]\n",
       "54      [$6,698,361 (, United States, ), [2]]\n",
       "74                    [$6,488,144, (US), [1]]\n",
       "126                [US$1,531,489, (domestic)]\n",
       "130                          [US$, 4,803,039]\n",
       "                        ...                  \n",
       "6980               [$99.6, million, [4], [5]]\n",
       "6994                   [$365.6, million, [1]]\n",
       "6995                         [$53.8, million]\n",
       "7015                     [$435, million, [7]]\n",
       "7048                   [$529.3, million, [4]]\n",
       "Name: Box office, Length: 135, dtype: object"
      ]
     },
     "execution_count": 269,
     "metadata": {},
     "output_type": "execute_result"
    }
   ],
   "source": [
    "box_office[box_office.map(is_not_a_string)]"
   ]
  },
  {
   "cell_type": "code",
   "execution_count": 270,
   "id": "04e7dcfa",
   "metadata": {},
   "outputs": [],
   "source": [
    "box_office = box_office.apply(lambda x: ' '.join(x) if type(x) == list else x)"
   ]
  },
  {
   "cell_type": "code",
   "execution_count": 271,
   "id": "6d7990b8",
   "metadata": {},
   "outputs": [
    {
     "data": {
      "text/plain": [
       "5485"
      ]
     },
     "execution_count": 271,
     "metadata": {},
     "output_type": "execute_result"
    }
   ],
   "source": [
    "len(box_office)"
   ]
  },
  {
   "cell_type": "code",
   "execution_count": 272,
   "id": "1c329a85",
   "metadata": {},
   "outputs": [],
   "source": [
    "form_one = r'\\$\\d+\\.?\\d*\\s*[mb]illion'"
   ]
  },
  {
   "cell_type": "code",
   "execution_count": 273,
   "id": "0f1d9eaf",
   "metadata": {},
   "outputs": [
    {
     "data": {
      "text/plain": [
       "3896"
      ]
     },
     "execution_count": 273,
     "metadata": {},
     "output_type": "execute_result"
    }
   ],
   "source": [
    "box_office.str.contains(form_one, flags=re.IGNORECASE, na=False).sum()"
   ]
  },
  {
   "cell_type": "code",
   "execution_count": 274,
   "id": "25c4eaa1",
   "metadata": {},
   "outputs": [],
   "source": [
    "form_two = r'\\$\\d{1,3}(?:,\\d{1,3})+'"
   ]
  },
  {
   "cell_type": "code",
   "execution_count": 275,
   "id": "3993d89f",
   "metadata": {},
   "outputs": [
    {
     "data": {
      "text/plain": [
       "1544"
      ]
     },
     "execution_count": 275,
     "metadata": {},
     "output_type": "execute_result"
    }
   ],
   "source": [
    "box_office.str.contains(form_two, flags=re.IGNORECASE, na=False).sum()"
   ]
  },
  {
   "cell_type": "code",
   "execution_count": 276,
   "id": "293f90fd",
   "metadata": {},
   "outputs": [],
   "source": [
    "matches_form_one = box_office.str.contains(form_one, flags=re.IGNORECASE, na=False)\n",
    "matches_form_two = box_office.str.contains(form_two, flags=re.IGNORECASE, na=False)"
   ]
  },
  {
   "cell_type": "code",
   "execution_count": 277,
   "id": "4c452edb",
   "metadata": {},
   "outputs": [
    {
     "data": {
      "text/plain": [
       "34                         US$ 4,212,828\n",
       "79                              $335.000\n",
       "110                   $4.35-4.37 million\n",
       "130                        US$ 4,803,039\n",
       "600                           $5000 (US)\n",
       "731                         $ 11,146,270\n",
       "957                             $ 50,004\n",
       "1070                          35,254,617\n",
       "1147    $ 407,618 (U.S.) (sub-total) [1]\n",
       "1446                        $ 11,829,959\n",
       "1480                          £3 million\n",
       "1611                            $520.000\n",
       "1865                        ¥1.1 billion\n",
       "2032                                 N/A\n",
       "2091                                $309\n",
       "2130               US$ 171.8 million [9]\n",
       "2257                   US$ 3,395,581 [1]\n",
       "2263            $ 1,223,034 ( domestic )\n",
       "2347                            $282.175\n",
       "2638            $ 104,883 (US sub-total)\n",
       "2665         926,423 admissions (France)\n",
       "2697      $ 1.7 million (US) (sub-total)\n",
       "2823                            $414.000\n",
       "2924                            $621.000\n",
       "3088           $32 [2] –33.1 million [1]\n",
       "3631                                 TBA\n",
       "3859                  $38.9–40.3 million\n",
       "3879            CN¥3.650 million (China)\n",
       "4116                          £7,385,434\n",
       "4123                            $161.000\n",
       "4261                  $20.7–23.9 million\n",
       "4306                              $20-30\n",
       "4492                        $47.7 millon\n",
       "4561             $45.2k (only in Turkey)\n",
       "4662                USD$ 8.2 million [2]\n",
       "5362                   $ 142 million [3]\n",
       "5447                               £2.56\n",
       "5784                            413 733$\n",
       "6013                             Unknown\n",
       "6145                  $17.5–18.4 million\n",
       "6234                  $41.8–41.9 million\n",
       "6369                               $111k\n",
       "6370                                $588\n",
       "6593                      less than $372\n",
       "6829                    $ 41 million [3]\n",
       "6843                             8 crore\n",
       "6904                         $6.9 millon\n",
       "Name: Box office, dtype: object"
      ]
     },
     "execution_count": 277,
     "metadata": {},
     "output_type": "execute_result"
    }
   ],
   "source": [
    "box_office[~matches_form_one & ~matches_form_two]"
   ]
  },
  {
   "cell_type": "code",
   "execution_count": 278,
   "id": "76117c0d",
   "metadata": {},
   "outputs": [],
   "source": [
    "form_one = r'\\$\\s*\\d+\\.?\\d*\\s*[mb]illi?on'\n",
    "form_two = r'\\$\\s*\\d{1,3}(?:[,\\.]\\d{3})+(?!\\s[mb]illion)'"
   ]
  },
  {
   "cell_type": "code",
   "execution_count": 279,
   "id": "86ad20d7",
   "metadata": {},
   "outputs": [],
   "source": [
    "box_office = box_office.str.replace(r'\\$.*[-—–](?![a-z])', '$', regex=True)"
   ]
  },
  {
   "cell_type": "code",
   "execution_count": 280,
   "id": "d0b5fb13",
   "metadata": {},
   "outputs": [],
   "source": [
    "def parse_dollars(s):\n",
    "    # if s is not a string, return NaN\n",
    "    if type(s) != str:\n",
    "        return np.nan\n",
    "\n",
    "    # if input is of the form $###.# million\n",
    "    if re.match(r'\\$\\s*\\d+\\.?\\d*\\s*milli?on', s, flags=re.IGNORECASE):\n",
    "\n",
    "        # remove dollar sign and \" million\"\n",
    "        s = re.sub('\\$|\\s|[a-zA-Z]','', s)\n",
    "\n",
    "        # convert to float and multiply by a million\n",
    "        value = float(s) * 10**6\n",
    "\n",
    "        # return value\n",
    "        return value\n",
    "\n",
    "    # if input is of the form $###.# billion\n",
    "    elif re.match(r'\\$\\s*\\d+\\.?\\d*\\s*billi?on', s, flags=re.IGNORECASE):\n",
    "\n",
    "        # remove dollar sign and \" billion\"\n",
    "        s = re.sub('\\$|\\s|[a-zA-Z]','', s)\n",
    "\n",
    "        # convert to float and multiply by a billion\n",
    "        value = float(s) * 10**9\n",
    "\n",
    "        # return value\n",
    "        return value\n",
    "\n",
    "    # if input is of the form $###,###,###\n",
    "    elif re.match(r'\\$\\s*\\d{1,3}(?:[,\\.]\\d{3})+(?!\\s[mb]illion)', s, flags=re.IGNORECASE):\n",
    "\n",
    "        # remove dollar sign and commas\n",
    "        s = re.sub('\\$|,','', s)\n",
    "\n",
    "        # convert to float\n",
    "        value = float(s)\n",
    "\n",
    "        # return value\n",
    "        return value\n",
    "\n",
    "    # otherwise, return NaN\n",
    "    else:\n",
    "        return np.nan"
   ]
  },
  {
   "cell_type": "code",
   "execution_count": 281,
   "id": "a2cf64d2",
   "metadata": {},
   "outputs": [],
   "source": [
    "wiki_movies_df['box_office'] = box_office.str.extract(f'({form_one}|{form_two})',\n",
    "                                                      flags=re.IGNORECASE)[0].apply(parse_dollars)"
   ]
  },
  {
   "cell_type": "code",
   "execution_count": 282,
   "id": "9e40a4d1",
   "metadata": {},
   "outputs": [],
   "source": [
    "wiki_movies_df.drop('Box office', axis=1, inplace=True)"
   ]
  },
  {
   "cell_type": "code",
   "execution_count": 283,
   "id": "ac657d97",
   "metadata": {},
   "outputs": [],
   "source": [
    "budget = wiki_movies_df['Budget'].dropna()"
   ]
  },
  {
   "cell_type": "code",
   "execution_count": 284,
   "id": "28f0daf9",
   "metadata": {},
   "outputs": [],
   "source": [
    "budget = budget.map(lambda x: ' '.join(x) if type(x) == list else x)"
   ]
  },
  {
   "cell_type": "code",
   "execution_count": 285,
   "id": "100ca091",
   "metadata": {},
   "outputs": [],
   "source": [
    "budget = budget.str.replace(r'\\$.*[-—–](?![a-z])', '$', regex=True)"
   ]
  },
  {
   "cell_type": "code",
   "execution_count": 286,
   "id": "ad9a8f64",
   "metadata": {},
   "outputs": [],
   "source": [
    "#temp = budget.str.extract(f'({form_one}|{form_two})', flags=re.IGNORECASE)[0].apply(parse_dollars)"
   ]
  },
  {
   "cell_type": "code",
   "execution_count": 287,
   "id": "b2cb811e",
   "metadata": {},
   "outputs": [],
   "source": [
    "#len(temp)"
   ]
  },
  {
   "cell_type": "code",
   "execution_count": 288,
   "id": "d9b2063e",
   "metadata": {},
   "outputs": [
    {
     "data": {
      "text/plain": [
       "136                         Unknown\n",
       "204     60 million Norwegian Kroner\n",
       "478                         Unknown\n",
       "973             $34 [3] [4] million\n",
       "1126               $120 [4] million\n",
       "1226                        Unknown\n",
       "1278                            HBO\n",
       "1374                     £6,000,000\n",
       "1397                     13 million\n",
       "1480                   £2.8 million\n",
       "1734                   CAD2,000,000\n",
       "1913     PHP 85 million (estimated)\n",
       "1948                    102,888,900\n",
       "1953                   3,500,000 DM\n",
       "1973                     ₤2,300,874\n",
       "2281                     $14 milion\n",
       "2451                     ₤6,350,000\n",
       "3144                   € 40 million\n",
       "3360               $150 [6] million\n",
       "3418                        $218.32\n",
       "3802                   £4.2 million\n",
       "3906                            N/A\n",
       "3959                    760,000 USD\n",
       "4470                       19 crore\n",
       "4641                    £17 million\n",
       "5034              $$200 [4] million\n",
       "5055           $155 [2] [3] million\n",
       "5419                $40 [4] million\n",
       "5424                            N/A\n",
       "5447                     £4 million\n",
       "5671                    €14 million\n",
       "5687                   $ dead link]\n",
       "6385               £ 12 million [3]\n",
       "6593                     £3 million\n",
       "6821                  £12.9 million\n",
       "6843                      3.5 crore\n",
       "6895                        919,000\n",
       "7070                   €4.3 million\n",
       "Name: Budget, dtype: object"
      ]
     },
     "execution_count": 288,
     "metadata": {},
     "output_type": "execute_result"
    }
   ],
   "source": [
    "matches_form_one = budget.str.contains(form_one, flags=re.IGNORECASE, na=False)\n",
    "matches_form_two = budget.str.contains(form_two, flags=re.IGNORECASE, na=False)\n",
    "budget[~matches_form_one & ~matches_form_two]"
   ]
  },
  {
   "cell_type": "code",
   "execution_count": 289,
   "id": "d512667a",
   "metadata": {},
   "outputs": [
    {
     "data": {
      "text/plain": [
       "136                         Unknown\n",
       "204     60 million Norwegian Kroner\n",
       "478                         Unknown\n",
       "973                     $34 million\n",
       "1126                   $120 million\n",
       "1226                        Unknown\n",
       "1278                            HBO\n",
       "1374                     £6,000,000\n",
       "1397                     13 million\n",
       "1480                   £2.8 million\n",
       "1734                   CAD2,000,000\n",
       "1913     PHP 85 million (estimated)\n",
       "1948                    102,888,900\n",
       "1953                   3,500,000 DM\n",
       "1973                     ₤2,300,874\n",
       "2281                     $14 milion\n",
       "2451                     ₤6,350,000\n",
       "3144                   € 40 million\n",
       "3360                   $150 million\n",
       "3418                        $218.32\n",
       "3802                   £4.2 million\n",
       "3906                            N/A\n",
       "3959                    760,000 USD\n",
       "4470                       19 crore\n",
       "4641                    £17 million\n",
       "5034                  $$200 million\n",
       "5055                   $155 million\n",
       "5419                    $40 million\n",
       "5424                            N/A\n",
       "5447                     £4 million\n",
       "5671                    €14 million\n",
       "5687                   $ dead link]\n",
       "6385                  £ 12 million \n",
       "6593                     £3 million\n",
       "6821                  £12.9 million\n",
       "6843                      3.5 crore\n",
       "6895                        919,000\n",
       "7070                   €4.3 million\n",
       "Name: Budget, dtype: object"
      ]
     },
     "execution_count": 289,
     "metadata": {},
     "output_type": "execute_result"
    }
   ],
   "source": [
    "budget = budget.str.replace(r'\\[\\d+\\]\\s*', '', regex=True)\n",
    "budget[~matches_form_one & ~matches_form_two]"
   ]
  },
  {
   "cell_type": "code",
   "execution_count": 290,
   "id": "0ac48f99",
   "metadata": {},
   "outputs": [],
   "source": [
    "wiki_movies_df['budget'] = budget.str.extract(f'({form_one}|{form_two})', flags=re.IGNORECASE)[0].apply(parse_dollars)"
   ]
  },
  {
   "cell_type": "code",
   "execution_count": 291,
   "id": "9294c5ea",
   "metadata": {},
   "outputs": [],
   "source": [
    "wiki_movies_df.drop('Budget', axis=1, inplace=True)"
   ]
  },
  {
   "cell_type": "code",
   "execution_count": 292,
   "id": "65abe211",
   "metadata": {},
   "outputs": [],
   "source": [
    "release_date = wiki_movies_df['Release date'].dropna().apply(lambda x: ' '.join(x) if type(x) == list else x)"
   ]
  },
  {
   "cell_type": "code",
   "execution_count": 293,
   "id": "60a87d5d",
   "metadata": {},
   "outputs": [
    {
     "data": {
      "text/plain": [
       "0                            July 11, 1990 ( 1990-07-11 )\n",
       "1       May 17, 1990 ( 1990-05-17 ) (Cannes Film Marke...\n",
       "2                          August 10, 1990 ( 1990-08-10 )\n",
       "3                        December 25, 1990 ( 1990-12-25 )\n",
       "4                                       December 19, 1990\n",
       "                              ...                        \n",
       "7071     December 25, 2018 ( 2018-12-25 ) (United States)\n",
       "7072    December 11, 2018 ( 2018-12-11 ) ( Samuel Gold...\n",
       "7073    November 8, 2018 ( 2018-11-08 ) ( AFI Fest ) D...\n",
       "7074    August 31, 2018 ( 2018-08-31 ) ( Telluride ) D...\n",
       "7075                      28 December 2018 ( 2018-12-28 )\n",
       "Name: Release date, Length: 7001, dtype: object"
      ]
     },
     "execution_count": 293,
     "metadata": {},
     "output_type": "execute_result"
    }
   ],
   "source": [
    "release_date"
   ]
  },
  {
   "cell_type": "code",
   "execution_count": 294,
   "id": "612bf7d6",
   "metadata": {},
   "outputs": [],
   "source": [
    "date_one = r'(?:ja|fe|mar|ap|ma|jun|ju|au|se|oc|no|de)\\w+\\s+\\d{1,2},\\s+\\d{4}'\n",
    "date_two = r'\\d{4}.[012]\\d.[0123]\\d'\n",
    "date_three = r'(?:ja|fe|mar|ap|ma|jun|ju|au|se|oc|no|de)\\w+\\s\\d{4}'\n",
    "date_four = r'\\d{4}'"
   ]
  },
  {
   "cell_type": "code",
   "execution_count": 295,
   "id": "82b5a248",
   "metadata": {},
   "outputs": [],
   "source": [
    "#pd.to_datetime(release_date.str.extract(f'({date_one}|{date_two}|{date_three}|{date_four})',\n",
    "                         #flags=re.IGNORECASE)[0], infer_datetime_format=True)"
   ]
  },
  {
   "cell_type": "code",
   "execution_count": 296,
   "id": "09c18246",
   "metadata": {},
   "outputs": [],
   "source": [
    "wiki_movies_df['release_date'] = pd.to_datetime(release_date.str.extract(f'({date_one}|{date_two}|{date_three}|{date_four})')[0], infer_datetime_format=True)"
   ]
  },
  {
   "cell_type": "code",
   "execution_count": 297,
   "id": "654db8c9",
   "metadata": {},
   "outputs": [],
   "source": [
    "running_time = wiki_movies_df['Running time'].dropna().apply(lambda x: ' '.join(x) if type(x) == list else x)"
   ]
  },
  {
   "cell_type": "code",
   "execution_count": 298,
   "id": "3d87c704",
   "metadata": {},
   "outputs": [],
   "source": [
    "running_time_extract = running_time.str.extract(r'(\\d+)\\s*ho?u?r?s?\\s*(\\d*)|(\\d+)\\s*m')"
   ]
  },
  {
   "cell_type": "code",
   "execution_count": 299,
   "id": "b5c982e2",
   "metadata": {},
   "outputs": [],
   "source": [
    "running_time_extract = running_time_extract.apply(lambda col: pd.to_numeric(col, errors='coerce')).fillna(0)"
   ]
  },
  {
   "cell_type": "code",
   "execution_count": 300,
   "id": "6ffbf90b",
   "metadata": {},
   "outputs": [],
   "source": [
    "wiki_movies_df['running_time'] = running_time_extract.apply(lambda row: row[0]*60 + row[1] if row[2] == 0 else row[2], axis=1)"
   ]
  },
  {
   "cell_type": "code",
   "execution_count": 301,
   "id": "ed52ad63",
   "metadata": {},
   "outputs": [],
   "source": [
    "wiki_movies_df.drop('Running time', axis=1, inplace=True)"
   ]
  },
  {
   "cell_type": "code",
   "execution_count": 302,
   "id": "478b8147",
   "metadata": {},
   "outputs": [],
   "source": [
    "kaggle_metadata = pd.read_csv(\"movies_metadata.csv\", low_memory = False)\n",
    "\n",
    "ratings = pd.read_csv(\"ratings.csv\")"
   ]
  },
  {
   "cell_type": "code",
   "execution_count": 303,
   "id": "34301c3c",
   "metadata": {},
   "outputs": [],
   "source": [
    "kaggle_metadata = kaggle_metadata[kaggle_metadata['adult'] == 'False'].drop('adult',axis='columns')"
   ]
  },
  {
   "cell_type": "code",
   "execution_count": 304,
   "id": "a6feb7c4",
   "metadata": {},
   "outputs": [],
   "source": [
    "kaggle_metadata['video'] = kaggle_metadata['video'] == 'True'"
   ]
  },
  {
   "cell_type": "code",
   "execution_count": 305,
   "id": "d3cd6dca",
   "metadata": {},
   "outputs": [],
   "source": [
    "kaggle_metadata['budget'] = kaggle_metadata['budget'].astype(int)\n",
    "kaggle_metadata['id'] = pd.to_numeric(kaggle_metadata['id'], errors='raise')\n",
    "kaggle_metadata['popularity'] = pd.to_numeric(kaggle_metadata['popularity'], errors='raise')"
   ]
  },
  {
   "cell_type": "code",
   "execution_count": 306,
   "id": "7f372dbf",
   "metadata": {},
   "outputs": [],
   "source": [
    "kaggle_metadata['release_date'] = pd.to_datetime(kaggle_metadata['release_date'])"
   ]
  },
  {
   "cell_type": "code",
   "execution_count": 307,
   "id": "7ee21b3a",
   "metadata": {},
   "outputs": [],
   "source": [
    "ratings['timestamp'] = pd.to_datetime(ratings['timestamp'], unit='s')"
   ]
  },
  {
   "cell_type": "code",
   "execution_count": 308,
   "id": "2ced6754",
   "metadata": {},
   "outputs": [],
   "source": [
    "movies_df = pd.merge(wiki_movies_df, kaggle_metadata, on='imdb_id', suffixes=['_wiki','_kaggle'])"
   ]
  },
  {
   "cell_type": "code",
   "execution_count": 309,
   "id": "81bfa3e1",
   "metadata": {},
   "outputs": [
    {
     "data": {
      "text/plain": [
       "['Based on',\n",
       " 'Cinematography',\n",
       " 'Composer(s)',\n",
       " 'Country',\n",
       " 'Director',\n",
       " 'Distributor',\n",
       " 'Editor(s)',\n",
       " 'Language',\n",
       " 'Producer(s)',\n",
       " 'Production company(s)',\n",
       " 'Release date',\n",
       " 'Starring',\n",
       " 'Writer(s)',\n",
       " 'belongs_to_collection',\n",
       " 'box_office',\n",
       " 'budget_kaggle',\n",
       " 'budget_wiki',\n",
       " 'genres',\n",
       " 'homepage',\n",
       " 'id',\n",
       " 'imdb_id',\n",
       " 'imdb_link',\n",
       " 'original_language',\n",
       " 'original_title',\n",
       " 'overview',\n",
       " 'popularity',\n",
       " 'poster_path',\n",
       " 'production_companies',\n",
       " 'production_countries',\n",
       " 'release_date_kaggle',\n",
       " 'release_date_wiki',\n",
       " 'revenue',\n",
       " 'running_time',\n",
       " 'runtime',\n",
       " 'spoken_languages',\n",
       " 'status',\n",
       " 'tagline',\n",
       " 'title_kaggle',\n",
       " 'title_wiki',\n",
       " 'url',\n",
       " 'video',\n",
       " 'vote_average',\n",
       " 'vote_count',\n",
       " 'year']"
      ]
     },
     "execution_count": 309,
     "metadata": {},
     "output_type": "execute_result"
    }
   ],
   "source": [
    "sorted(movies_df.columns.tolist())"
   ]
  },
  {
   "cell_type": "code",
   "execution_count": 310,
   "id": "3449fd04",
   "metadata": {},
   "outputs": [],
   "source": [
    "# Competing data:\n",
    "# Wiki                     Movielens                Resolution\n",
    "#--------------------------------------------------------------------------\n",
    "# title_wiki               title_kaggle            Drop wiki\n",
    "# running_time             runtime                 Keep kaggle, plug gaps with wiki\n",
    "# budget_wiki              budget_kaggle           Keep kaggle, plug gaps with wiki\n",
    "# box_office               revenue                 Keep kaggle, plug gaps with wiki\n",
    "# release_date_wiki        release_date_kaggle     Drop wiki\n",
    "# Language                 original_language       Drop wiki\n",
    "# Production company(s)    production_companies    Drop wiki"
   ]
  },
  {
   "cell_type": "code",
   "execution_count": 311,
   "id": "3df36eb1",
   "metadata": {},
   "outputs": [
    {
     "data": {
      "text/html": [
       "<div>\n",
       "<style scoped>\n",
       "    .dataframe tbody tr th:only-of-type {\n",
       "        vertical-align: middle;\n",
       "    }\n",
       "\n",
       "    .dataframe tbody tr th {\n",
       "        vertical-align: top;\n",
       "    }\n",
       "\n",
       "    .dataframe thead th {\n",
       "        text-align: right;\n",
       "    }\n",
       "</style>\n",
       "<table border=\"1\" class=\"dataframe\">\n",
       "  <thead>\n",
       "    <tr style=\"text-align: right;\">\n",
       "      <th></th>\n",
       "      <th>url</th>\n",
       "      <th>year</th>\n",
       "      <th>imdb_link</th>\n",
       "      <th>title_wiki</th>\n",
       "      <th>Based on</th>\n",
       "      <th>Starring</th>\n",
       "      <th>Cinematography</th>\n",
       "      <th>Release date</th>\n",
       "      <th>Country</th>\n",
       "      <th>Language</th>\n",
       "      <th>...</th>\n",
       "      <th>release_date_kaggle</th>\n",
       "      <th>revenue</th>\n",
       "      <th>runtime</th>\n",
       "      <th>spoken_languages</th>\n",
       "      <th>status</th>\n",
       "      <th>tagline</th>\n",
       "      <th>title_kaggle</th>\n",
       "      <th>video</th>\n",
       "      <th>vote_average</th>\n",
       "      <th>vote_count</th>\n",
       "    </tr>\n",
       "  </thead>\n",
       "  <tbody>\n",
       "  </tbody>\n",
       "</table>\n",
       "<p>0 rows × 44 columns</p>\n",
       "</div>"
      ],
      "text/plain": [
       "Empty DataFrame\n",
       "Columns: [url, year, imdb_link, title_wiki, Based on, Starring, Cinematography, Release date, Country, Language, Director, Distributor, Editor(s), Composer(s), Producer(s), Production company(s), Writer(s), imdb_id, box_office, budget_wiki, release_date_wiki, running_time, belongs_to_collection, budget_kaggle, genres, homepage, id, original_language, original_title, overview, popularity, poster_path, production_companies, production_countries, release_date_kaggle, revenue, runtime, spoken_languages, status, tagline, title_kaggle, video, vote_average, vote_count]\n",
       "Index: []\n",
       "\n",
       "[0 rows x 44 columns]"
      ]
     },
     "execution_count": 311,
     "metadata": {},
     "output_type": "execute_result"
    }
   ],
   "source": [
    "# Show any rows where title_kaggle is empty\n",
    "movies_df[(movies_df['title_kaggle'] == '') | (movies_df['title_kaggle'].isnull())]"
   ]
  },
  {
   "cell_type": "code",
   "execution_count": 312,
   "id": "0800859a",
   "metadata": {},
   "outputs": [
    {
     "data": {
      "text/plain": [
       "<AxesSubplot:xlabel='running_time', ylabel='runtime'>"
      ]
     },
     "execution_count": 312,
     "metadata": {},
     "output_type": "execute_result"
    },
    {
     "data": {
      "image/png": "[encoded data removed]",
      "text/plain": [
       "<Figure size 432x288 with 1 Axes>"
      ]
     },
     "metadata": {
      "needs_background": "light"
     },
     "output_type": "display_data"
    }
   ],
   "source": [
    "movies_df.fillna(0).plot(x='running_time', y='runtime', kind='scatter')"
   ]
  },
  {
   "cell_type": "code",
   "execution_count": 313,
   "id": "6dd58322",
   "metadata": {},
   "outputs": [
    {
     "data": {
      "text/plain": [
       "<AxesSubplot:xlabel='budget_wiki', ylabel='budget_kaggle'>"
      ]
     },
     "execution_count": 313,
     "metadata": {},
     "output_type": "execute_result"
    },
    {
     "data": {
      "image/png": "[encoded data removed]",
      "text/plain": [
       "<Figure size 432x288 with 1 Axes>"
      ]
     },
     "metadata": {
      "needs_background": "light"
     },
     "output_type": "display_data"
    }
   ],
   "source": [
    "movies_df.fillna(0).plot(x='budget_wiki',y='budget_kaggle', kind='scatter')"
   ]
  },
  {
   "cell_type": "code",
   "execution_count": 314,
   "id": "1c0853d3",
   "metadata": {},
   "outputs": [
    {
     "data": {
      "text/plain": [
       "<AxesSubplot:xlabel='box_office', ylabel='revenue'>"
      ]
     },
     "execution_count": 314,
     "metadata": {},
     "output_type": "execute_result"
    },
    {
     "data": {
      "image/png": "[encoded data removed]",
      "text/plain": [
       "<Figure size 432x288 with 1 Axes>"
      ]
     },
     "metadata": {
      "needs_background": "light"
     },
     "output_type": "display_data"
    }
   ],
   "source": [
    "movies_df.fillna(0).plot(x='box_office', y='revenue', kind='scatter')"
   ]
  },
  {
   "cell_type": "code",
   "execution_count": 315,
   "id": "31e51ac0",
   "metadata": {},
   "outputs": [
    {
     "data": {
      "text/plain": [
       "<AxesSubplot:xlabel='release_date_wiki'>"
      ]
     },
     "execution_count": 315,
     "metadata": {},
     "output_type": "execute_result"
    },
    {
     "data": {
      "image/png": "[encoded data removed]",
      "text/plain": [
       "<Figure size 432x288 with 1 Axes>"
      ]
     },
     "metadata": {
      "needs_background": "light"
     },
     "output_type": "display_data"
    }
   ],
   "source": [
    "movies_df[['release_date_wiki','release_date_kaggle']].plot(x='release_date_wiki', y='release_date_kaggle', style='.')\n"
   ]
  },
  {
   "cell_type": "code",
   "execution_count": 316,
   "id": "9014e968",
   "metadata": {},
   "outputs": [
    {
     "data": {
      "text/plain": [
       "Int64Index([3607], dtype='int64')"
      ]
     },
     "execution_count": 316,
     "metadata": {},
     "output_type": "execute_result"
    }
   ],
   "source": [
    "movies_df[(movies_df['release_date_wiki'] > '1996-01-01') & (movies_df['release_date_kaggle'] < '1965-01-01')].index"
   ]
  },
  {
   "cell_type": "code",
   "execution_count": 317,
   "id": "ce61617f",
   "metadata": {},
   "outputs": [],
   "source": [
    "movies_df = movies_df.drop(movies_df[(movies_df['release_date_wiki'] > '1996-01-01') & (movies_df['release_date_kaggle'] < '1965-01-01')].index)"
   ]
  },
  {
   "cell_type": "code",
   "execution_count": 318,
   "id": "c14e25b7",
   "metadata": {},
   "outputs": [
    {
     "data": {
      "text/html": [
       "<div>\n",
       "<style scoped>\n",
       "    .dataframe tbody tr th:only-of-type {\n",
       "        vertical-align: middle;\n",
       "    }\n",
       "\n",
       "    .dataframe tbody tr th {\n",
       "        vertical-align: top;\n",
       "    }\n",
       "\n",
       "    .dataframe thead th {\n",
       "        text-align: right;\n",
       "    }\n",
       "</style>\n",
       "<table border=\"1\" class=\"dataframe\">\n",
       "  <thead>\n",
       "    <tr style=\"text-align: right;\">\n",
       "      <th></th>\n",
       "      <th>url</th>\n",
       "      <th>year</th>\n",
       "      <th>imdb_link</th>\n",
       "      <th>title_wiki</th>\n",
       "      <th>Based on</th>\n",
       "      <th>Starring</th>\n",
       "      <th>Cinematography</th>\n",
       "      <th>Release date</th>\n",
       "      <th>Country</th>\n",
       "      <th>Language</th>\n",
       "      <th>...</th>\n",
       "      <th>release_date_kaggle</th>\n",
       "      <th>revenue</th>\n",
       "      <th>runtime</th>\n",
       "      <th>spoken_languages</th>\n",
       "      <th>status</th>\n",
       "      <th>tagline</th>\n",
       "      <th>title_kaggle</th>\n",
       "      <th>video</th>\n",
       "      <th>vote_average</th>\n",
       "      <th>vote_count</th>\n",
       "    </tr>\n",
       "  </thead>\n",
       "  <tbody>\n",
       "    <tr>\n",
       "      <th>1008</th>\n",
       "      <td>https://en.wikipedia.org/wiki/Black_Scorpion_(...</td>\n",
       "      <td>1995</td>\n",
       "      <td>https://www.imdb.com/title/tt0112519/</td>\n",
       "      <td>Black Scorpion</td>\n",
       "      <td>NaN</td>\n",
       "      <td>[Joan Severance, Bruce Abbott, Garrett Morris]</td>\n",
       "      <td>Geoff George</td>\n",
       "      <td>NaN</td>\n",
       "      <td>United States</td>\n",
       "      <td>NaN</td>\n",
       "      <td>...</td>\n",
       "      <td>1995-08-22</td>\n",
       "      <td>0.0</td>\n",
       "      <td>92.0</td>\n",
       "      <td>[{'iso_639_1': 'en', 'name': 'English'}]</td>\n",
       "      <td>Released</td>\n",
       "      <td>Justice has a nasty sting.</td>\n",
       "      <td>Black Scorpion</td>\n",
       "      <td>False</td>\n",
       "      <td>6.1</td>\n",
       "      <td>7.0</td>\n",
       "    </tr>\n",
       "    <tr>\n",
       "      <th>1061</th>\n",
       "      <td>https://en.wikipedia.org/wiki/Flirt_(1995_film)</td>\n",
       "      <td>1995</td>\n",
       "      <td>https://www.imdb.com/title/tt0113080/</td>\n",
       "      <td>Flirt</td>\n",
       "      <td>NaN</td>\n",
       "      <td>[Bill Sage, Dwight Ewell, Miho Nikaido]</td>\n",
       "      <td>Michael Spiller</td>\n",
       "      <td>NaN</td>\n",
       "      <td>[United States, Germany, Japan, [1]]</td>\n",
       "      <td>NaN</td>\n",
       "      <td>...</td>\n",
       "      <td>1995-09-14</td>\n",
       "      <td>0.0</td>\n",
       "      <td>85.0</td>\n",
       "      <td>[{'iso_639_1': 'en', 'name': 'English'}, {'iso...</td>\n",
       "      <td>Released</td>\n",
       "      <td>NaN</td>\n",
       "      <td>Flirt</td>\n",
       "      <td>False</td>\n",
       "      <td>7.5</td>\n",
       "      <td>4.0</td>\n",
       "    </tr>\n",
       "    <tr>\n",
       "      <th>1121</th>\n",
       "      <td>https://en.wikipedia.org/wiki/Let_It_Be_Me_(19...</td>\n",
       "      <td>1995</td>\n",
       "      <td>https://www.imdb.com/title/tt0113638/</td>\n",
       "      <td>Let It Be Me</td>\n",
       "      <td>NaN</td>\n",
       "      <td>NaN</td>\n",
       "      <td>Miroslav Ondrícek</td>\n",
       "      <td>NaN</td>\n",
       "      <td>NaN</td>\n",
       "      <td>NaN</td>\n",
       "      <td>...</td>\n",
       "      <td>1995-11-17</td>\n",
       "      <td>0.0</td>\n",
       "      <td>95.0</td>\n",
       "      <td>[]</td>\n",
       "      <td>Released</td>\n",
       "      <td>NaN</td>\n",
       "      <td>Let It Be Me</td>\n",
       "      <td>False</td>\n",
       "      <td>8.0</td>\n",
       "      <td>2.0</td>\n",
       "    </tr>\n",
       "    <tr>\n",
       "      <th>1564</th>\n",
       "      <td>https://en.wikipedia.org/wiki/A_Brooklyn_State...</td>\n",
       "      <td>1997</td>\n",
       "      <td>https://www.imdb.com/title/tt0118782/</td>\n",
       "      <td>A Brooklyn State of Mind</td>\n",
       "      <td>NaN</td>\n",
       "      <td>NaN</td>\n",
       "      <td>Ken Kelsch</td>\n",
       "      <td>NaN</td>\n",
       "      <td>NaN</td>\n",
       "      <td>NaN</td>\n",
       "      <td>...</td>\n",
       "      <td>1998-01-01</td>\n",
       "      <td>0.0</td>\n",
       "      <td>89.0</td>\n",
       "      <td>[{'iso_639_1': 'en', 'name': 'English'}]</td>\n",
       "      <td>Released</td>\n",
       "      <td>NaN</td>\n",
       "      <td>A Brooklyn State of Mind</td>\n",
       "      <td>False</td>\n",
       "      <td>5.0</td>\n",
       "      <td>1.0</td>\n",
       "    </tr>\n",
       "    <tr>\n",
       "      <th>1633</th>\n",
       "      <td>https://en.wikipedia.org/wiki/Highball_(film)</td>\n",
       "      <td>1997</td>\n",
       "      <td>https://www.imdb.com/title/tt0119291/</td>\n",
       "      <td>Highball</td>\n",
       "      <td>NaN</td>\n",
       "      <td>[Justine Bateman, Peter Bogdanovich, Chris Eig...</td>\n",
       "      <td>Steven Bernstein</td>\n",
       "      <td>NaN</td>\n",
       "      <td>United States</td>\n",
       "      <td>English</td>\n",
       "      <td>...</td>\n",
       "      <td>1997-01-01</td>\n",
       "      <td>0.0</td>\n",
       "      <td>110.0</td>\n",
       "      <td>[{'iso_639_1': 'en', 'name': 'English'}]</td>\n",
       "      <td>Released</td>\n",
       "      <td>NaN</td>\n",
       "      <td>Highball</td>\n",
       "      <td>False</td>\n",
       "      <td>4.5</td>\n",
       "      <td>4.0</td>\n",
       "    </tr>\n",
       "    <tr>\n",
       "      <th>1775</th>\n",
       "      <td>https://en.wikipedia.org/wiki/Velocity_Trap</td>\n",
       "      <td>1997</td>\n",
       "      <td>https://www.imdb.com/title/tt0120435/</td>\n",
       "      <td>Velocity Trap</td>\n",
       "      <td>NaN</td>\n",
       "      <td>[Olivier Gruner, Alicia Coppola, Ken Olandt]</td>\n",
       "      <td>Philip D. Schwartz</td>\n",
       "      <td>NaN</td>\n",
       "      <td>United States</td>\n",
       "      <td>NaN</td>\n",
       "      <td>...</td>\n",
       "      <td>1999-02-22</td>\n",
       "      <td>0.0</td>\n",
       "      <td>86.0</td>\n",
       "      <td>[{'iso_639_1': 'en', 'name': 'English'}]</td>\n",
       "      <td>Released</td>\n",
       "      <td>Crime at the Speed of Light</td>\n",
       "      <td>Velocity Trap</td>\n",
       "      <td>False</td>\n",
       "      <td>4.7</td>\n",
       "      <td>6.0</td>\n",
       "    </tr>\n",
       "    <tr>\n",
       "      <th>2386</th>\n",
       "      <td>https://en.wikipedia.org/wiki/The_Visit_(2000_...</td>\n",
       "      <td>2000</td>\n",
       "      <td>https://www.imdb.com/title/tt0199129/</td>\n",
       "      <td>The Visit</td>\n",
       "      <td>NaN</td>\n",
       "      <td>[Hill Harper, Billy Dee Williams, Obba Babatun...</td>\n",
       "      <td>John L. Demps Jr.</td>\n",
       "      <td>NaN</td>\n",
       "      <td>NaN</td>\n",
       "      <td>English</td>\n",
       "      <td>...</td>\n",
       "      <td>2000-01-01</td>\n",
       "      <td>0.0</td>\n",
       "      <td>107.0</td>\n",
       "      <td>[{'iso_639_1': 'en', 'name': 'English'}, {'iso...</td>\n",
       "      <td>Rumored</td>\n",
       "      <td>NaN</td>\n",
       "      <td>The Visit</td>\n",
       "      <td>False</td>\n",
       "      <td>0.0</td>\n",
       "      <td>0.0</td>\n",
       "    </tr>\n",
       "    <tr>\n",
       "      <th>2786</th>\n",
       "      <td>https://en.wikipedia.org/wiki/Stevie_(2002_film)</td>\n",
       "      <td>2002</td>\n",
       "      <td>https://www.imdb.com/title/tt0334416/</td>\n",
       "      <td>Stevie</td>\n",
       "      <td>NaN</td>\n",
       "      <td>NaN</td>\n",
       "      <td>[Dana Kupper, Gordon Quinn, Peter Gilbert]</td>\n",
       "      <td>NaN</td>\n",
       "      <td>United States</td>\n",
       "      <td>English</td>\n",
       "      <td>...</td>\n",
       "      <td>2002-09-09</td>\n",
       "      <td>97000.0</td>\n",
       "      <td>140.0</td>\n",
       "      <td>[]</td>\n",
       "      <td>NaN</td>\n",
       "      <td>NaN</td>\n",
       "      <td>Stevie</td>\n",
       "      <td>False</td>\n",
       "      <td>6.7</td>\n",
       "      <td>13.0</td>\n",
       "    </tr>\n",
       "    <tr>\n",
       "      <th>3174</th>\n",
       "      <td>https://en.wikipedia.org/wiki/Return_to_Sender...</td>\n",
       "      <td>2004</td>\n",
       "      <td>https://www.imdb.com/title/tt0396190/</td>\n",
       "      <td>Return to Sender</td>\n",
       "      <td>NaN</td>\n",
       "      <td>[Aidan Quinn, Connie Nielsen, Mark Holton]</td>\n",
       "      <td>NaN</td>\n",
       "      <td>NaN</td>\n",
       "      <td>[Denmark, USA, UK]</td>\n",
       "      <td>NaN</td>\n",
       "      <td>...</td>\n",
       "      <td>2004-09-17</td>\n",
       "      <td>0.0</td>\n",
       "      <td>109.0</td>\n",
       "      <td>[{'iso_639_1': 'en', 'name': 'English'}]</td>\n",
       "      <td>Released</td>\n",
       "      <td>How can you save someone, who won't save herself?</td>\n",
       "      <td>Return to Sender</td>\n",
       "      <td>False</td>\n",
       "      <td>5.9</td>\n",
       "      <td>13.0</td>\n",
       "    </tr>\n",
       "    <tr>\n",
       "      <th>3651</th>\n",
       "      <td>https://en.wikipedia.org/wiki/Live_Free_or_Die...</td>\n",
       "      <td>2006</td>\n",
       "      <td>https://www.imdb.com/title/tt0432318/</td>\n",
       "      <td>Live Free or Die</td>\n",
       "      <td>NaN</td>\n",
       "      <td>[Aaron Stanford, Paul Schneider, Ebon Moss-Bac...</td>\n",
       "      <td>NaN</td>\n",
       "      <td>NaN</td>\n",
       "      <td>United States</td>\n",
       "      <td>English</td>\n",
       "      <td>...</td>\n",
       "      <td>2006-03-11</td>\n",
       "      <td>0.0</td>\n",
       "      <td>89.0</td>\n",
       "      <td>[{'iso_639_1': 'en', 'name': 'English'}]</td>\n",
       "      <td>Released</td>\n",
       "      <td>NaN</td>\n",
       "      <td>Live Free or Die</td>\n",
       "      <td>False</td>\n",
       "      <td>5.5</td>\n",
       "      <td>8.0</td>\n",
       "    </tr>\n",
       "    <tr>\n",
       "      <th>4967</th>\n",
       "      <td>https://en.wikipedia.org/wiki/For_the_Love_of_...</td>\n",
       "      <td>2012</td>\n",
       "      <td>https://www.imdb.com/title/tt1730294/</td>\n",
       "      <td>For the Love of Money</td>\n",
       "      <td>NaN</td>\n",
       "      <td>[Yehuda Levi, Edward Furlong, James Caan, Jeff...</td>\n",
       "      <td>Andrzej Sekuła</td>\n",
       "      <td>NaN</td>\n",
       "      <td>United States</td>\n",
       "      <td>English/Hebrew</td>\n",
       "      <td>...</td>\n",
       "      <td>2012-06-08</td>\n",
       "      <td>0.0</td>\n",
       "      <td>93.0</td>\n",
       "      <td>[{'iso_639_1': 'en', 'name': 'English'}, {'iso...</td>\n",
       "      <td>Released</td>\n",
       "      <td>For the love of money is the root of all evil.</td>\n",
       "      <td>For the Love of Money</td>\n",
       "      <td>False</td>\n",
       "      <td>5.6</td>\n",
       "      <td>9.0</td>\n",
       "    </tr>\n",
       "  </tbody>\n",
       "</table>\n",
       "<p>11 rows × 44 columns</p>\n",
       "</div>"
      ],
      "text/plain": [
       "                                                    url  year  \\\n",
       "1008  https://en.wikipedia.org/wiki/Black_Scorpion_(...  1995   \n",
       "1061    https://en.wikipedia.org/wiki/Flirt_(1995_film)  1995   \n",
       "1121  https://en.wikipedia.org/wiki/Let_It_Be_Me_(19...  1995   \n",
       "1564  https://en.wikipedia.org/wiki/A_Brooklyn_State...  1997   \n",
       "1633      https://en.wikipedia.org/wiki/Highball_(film)  1997   \n",
       "1775        https://en.wikipedia.org/wiki/Velocity_Trap  1997   \n",
       "2386  https://en.wikipedia.org/wiki/The_Visit_(2000_...  2000   \n",
       "2786   https://en.wikipedia.org/wiki/Stevie_(2002_film)  2002   \n",
       "3174  https://en.wikipedia.org/wiki/Return_to_Sender...  2004   \n",
       "3651  https://en.wikipedia.org/wiki/Live_Free_or_Die...  2006   \n",
       "4967  https://en.wikipedia.org/wiki/For_the_Love_of_...  2012   \n",
       "\n",
       "                                  imdb_link                title_wiki  \\\n",
       "1008  https://www.imdb.com/title/tt0112519/            Black Scorpion   \n",
       "1061  https://www.imdb.com/title/tt0113080/                     Flirt   \n",
       "1121  https://www.imdb.com/title/tt0113638/              Let It Be Me   \n",
       "1564  https://www.imdb.com/title/tt0118782/  A Brooklyn State of Mind   \n",
       "1633  https://www.imdb.com/title/tt0119291/                  Highball   \n",
       "1775  https://www.imdb.com/title/tt0120435/             Velocity Trap   \n",
       "2386  https://www.imdb.com/title/tt0199129/                 The Visit   \n",
       "2786  https://www.imdb.com/title/tt0334416/                    Stevie   \n",
       "3174  https://www.imdb.com/title/tt0396190/          Return to Sender   \n",
       "3651  https://www.imdb.com/title/tt0432318/          Live Free or Die   \n",
       "4967  https://www.imdb.com/title/tt1730294/     For the Love of Money   \n",
       "\n",
       "     Based on                                           Starring  \\\n",
       "1008      NaN     [Joan Severance, Bruce Abbott, Garrett Morris]   \n",
       "1061      NaN            [Bill Sage, Dwight Ewell, Miho Nikaido]   \n",
       "1121      NaN                                                NaN   \n",
       "1564      NaN                                                NaN   \n",
       "1633      NaN  [Justine Bateman, Peter Bogdanovich, Chris Eig...   \n",
       "1775      NaN       [Olivier Gruner, Alicia Coppola, Ken Olandt]   \n",
       "2386      NaN  [Hill Harper, Billy Dee Williams, Obba Babatun...   \n",
       "2786      NaN                                                NaN   \n",
       "3174      NaN         [Aidan Quinn, Connie Nielsen, Mark Holton]   \n",
       "3651      NaN  [Aaron Stanford, Paul Schneider, Ebon Moss-Bac...   \n",
       "4967      NaN  [Yehuda Levi, Edward Furlong, James Caan, Jeff...   \n",
       "\n",
       "                                  Cinematography Release date  \\\n",
       "1008                                Geoff George          NaN   \n",
       "1061                             Michael Spiller          NaN   \n",
       "1121                           Miroslav Ondrícek          NaN   \n",
       "1564                                  Ken Kelsch          NaN   \n",
       "1633                            Steven Bernstein          NaN   \n",
       "1775                          Philip D. Schwartz          NaN   \n",
       "2386                           John L. Demps Jr.          NaN   \n",
       "2786  [Dana Kupper, Gordon Quinn, Peter Gilbert]          NaN   \n",
       "3174                                         NaN          NaN   \n",
       "3651                                         NaN          NaN   \n",
       "4967                              Andrzej Sekuła          NaN   \n",
       "\n",
       "                                   Country        Language  ...  \\\n",
       "1008                         United States             NaN  ...   \n",
       "1061  [United States, Germany, Japan, [1]]             NaN  ...   \n",
       "1121                                   NaN             NaN  ...   \n",
       "1564                                   NaN             NaN  ...   \n",
       "1633                         United States         English  ...   \n",
       "1775                         United States             NaN  ...   \n",
       "2386                                   NaN         English  ...   \n",
       "2786                         United States         English  ...   \n",
       "3174                    [Denmark, USA, UK]             NaN  ...   \n",
       "3651                         United States         English  ...   \n",
       "4967                         United States  English/Hebrew  ...   \n",
       "\n",
       "     release_date_kaggle  revenue runtime  \\\n",
       "1008          1995-08-22      0.0    92.0   \n",
       "1061          1995-09-14      0.0    85.0   \n",
       "1121          1995-11-17      0.0    95.0   \n",
       "1564          1998-01-01      0.0    89.0   \n",
       "1633          1997-01-01      0.0   110.0   \n",
       "1775          1999-02-22      0.0    86.0   \n",
       "2386          2000-01-01      0.0   107.0   \n",
       "2786          2002-09-09  97000.0   140.0   \n",
       "3174          2004-09-17      0.0   109.0   \n",
       "3651          2006-03-11      0.0    89.0   \n",
       "4967          2012-06-08      0.0    93.0   \n",
       "\n",
       "                                       spoken_languages    status  \\\n",
       "1008           [{'iso_639_1': 'en', 'name': 'English'}]  Released   \n",
       "1061  [{'iso_639_1': 'en', 'name': 'English'}, {'iso...  Released   \n",
       "1121                                                 []  Released   \n",
       "1564           [{'iso_639_1': 'en', 'name': 'English'}]  Released   \n",
       "1633           [{'iso_639_1': 'en', 'name': 'English'}]  Released   \n",
       "1775           [{'iso_639_1': 'en', 'name': 'English'}]  Released   \n",
       "2386  [{'iso_639_1': 'en', 'name': 'English'}, {'iso...   Rumored   \n",
       "2786                                                 []       NaN   \n",
       "3174           [{'iso_639_1': 'en', 'name': 'English'}]  Released   \n",
       "3651           [{'iso_639_1': 'en', 'name': 'English'}]  Released   \n",
       "4967  [{'iso_639_1': 'en', 'name': 'English'}, {'iso...  Released   \n",
       "\n",
       "                                                tagline  \\\n",
       "1008                         Justice has a nasty sting.   \n",
       "1061                                                NaN   \n",
       "1121                                                NaN   \n",
       "1564                                                NaN   \n",
       "1633                                                NaN   \n",
       "1775                        Crime at the Speed of Light   \n",
       "2386                                                NaN   \n",
       "2786                                                NaN   \n",
       "3174  How can you save someone, who won't save herself?   \n",
       "3651                                                NaN   \n",
       "4967     For the love of money is the root of all evil.   \n",
       "\n",
       "                  title_kaggle  video  vote_average  vote_count  \n",
       "1008            Black Scorpion  False           6.1         7.0  \n",
       "1061                     Flirt  False           7.5         4.0  \n",
       "1121              Let It Be Me  False           8.0         2.0  \n",
       "1564  A Brooklyn State of Mind  False           5.0         1.0  \n",
       "1633                  Highball  False           4.5         4.0  \n",
       "1775             Velocity Trap  False           4.7         6.0  \n",
       "2386                 The Visit  False           0.0         0.0  \n",
       "2786                    Stevie  False           6.7        13.0  \n",
       "3174          Return to Sender  False           5.9        13.0  \n",
       "3651          Live Free or Die  False           5.5         8.0  \n",
       "4967     For the Love of Money  False           5.6         9.0  \n",
       "\n",
       "[11 rows x 44 columns]"
      ]
     },
     "execution_count": 318,
     "metadata": {},
     "output_type": "execute_result"
    }
   ],
   "source": [
    "movies_df[movies_df['release_date_wiki'].isnull()]"
   ]
  },
  {
   "cell_type": "code",
   "execution_count": 319,
   "id": "41417fec",
   "metadata": {},
   "outputs": [],
   "source": [
    "movies_df.drop(columns=['title_wiki','release_date_wiki','Language','Production company(s)'], inplace=True)"
   ]
  },
  {
   "cell_type": "code",
   "execution_count": 320,
   "id": "d591fa18",
   "metadata": {},
   "outputs": [],
   "source": [
    "def fill_missing_kaggle_data(df, kaggle_column, wiki_column):\n",
    "    df[kaggle_column] = df.apply(\n",
    "        lambda row: row[wiki_column] if row[kaggle_column] == 0 else row[kaggle_column]\n",
    "        , axis=1)\n",
    "    df.drop(columns=wiki_column, inplace=True)"
   ]
  },
  {
   "cell_type": "code",
   "execution_count": 322,
   "id": "6af5a3fe",
   "metadata": {},
   "outputs": [
    {
     "ename": "KeyError",
     "evalue": "\"['running_time'] not found in axis\"",
     "output_type": "error",
     "traceback": [
      "\u001b[1;31m---------------------------------------------------------------------------\u001b[0m",
      "\u001b[1;31mKeyError\u001b[0m                                  Traceback (most recent call last)",
      "\u001b[1;32m~\\AppData\\Local\\Temp\\ipykernel_12632\\4048721109.py\u001b[0m in \u001b[0;36m<module>\u001b[1;34m\u001b[0m\n\u001b[1;32m----> 1\u001b[1;33m \u001b[0mfill_missing_kaggle_data\u001b[0m\u001b[1;33m(\u001b[0m\u001b[0mmovies_df\u001b[0m\u001b[1;33m,\u001b[0m \u001b[1;34m'runtime'\u001b[0m\u001b[1;33m,\u001b[0m \u001b[1;34m'running_time'\u001b[0m\u001b[1;33m)\u001b[0m\u001b[1;33m\u001b[0m\u001b[1;33m\u001b[0m\u001b[0m\n\u001b[0m\u001b[0;32m      2\u001b[0m \u001b[0mfill_missing_kaggle_data\u001b[0m\u001b[1;33m(\u001b[0m\u001b[0mmovies_df\u001b[0m\u001b[1;33m,\u001b[0m \u001b[1;34m'budget_kaggle'\u001b[0m\u001b[1;33m,\u001b[0m \u001b[1;34m'budget_wiki'\u001b[0m\u001b[1;33m)\u001b[0m\u001b[1;33m\u001b[0m\u001b[1;33m\u001b[0m\u001b[0m\n\u001b[0;32m      3\u001b[0m \u001b[0mfill_missing_kaggle_data\u001b[0m\u001b[1;33m(\u001b[0m\u001b[0mmovies_df\u001b[0m\u001b[1;33m,\u001b[0m \u001b[1;34m'revenue'\u001b[0m\u001b[1;33m,\u001b[0m \u001b[1;34m'box_office'\u001b[0m\u001b[1;33m)\u001b[0m\u001b[1;33m\u001b[0m\u001b[1;33m\u001b[0m\u001b[0m\n\u001b[0;32m      4\u001b[0m \u001b[1;31m#movies_df\u001b[0m\u001b[1;33m\u001b[0m\u001b[1;33m\u001b[0m\u001b[1;33m\u001b[0m\u001b[0m\n",
      "\u001b[1;32m~\\AppData\\Local\\Temp\\ipykernel_12632\\936428555.py\u001b[0m in \u001b[0;36mfill_missing_kaggle_data\u001b[1;34m(df, kaggle_column, wiki_column)\u001b[0m\n\u001b[0;32m      3\u001b[0m         \u001b[1;32mlambda\u001b[0m \u001b[0mrow\u001b[0m\u001b[1;33m:\u001b[0m \u001b[0mrow\u001b[0m\u001b[1;33m[\u001b[0m\u001b[0mwiki_column\u001b[0m\u001b[1;33m]\u001b[0m \u001b[1;32mif\u001b[0m \u001b[0mrow\u001b[0m\u001b[1;33m[\u001b[0m\u001b[0mkaggle_column\u001b[0m\u001b[1;33m]\u001b[0m \u001b[1;33m==\u001b[0m \u001b[1;36m0\u001b[0m \u001b[1;32melse\u001b[0m \u001b[0mrow\u001b[0m\u001b[1;33m[\u001b[0m\u001b[0mkaggle_column\u001b[0m\u001b[1;33m]\u001b[0m\u001b[1;33m\u001b[0m\u001b[1;33m\u001b[0m\u001b[0m\n\u001b[0;32m      4\u001b[0m         , axis=1)\n\u001b[1;32m----> 5\u001b[1;33m     \u001b[0mdf\u001b[0m\u001b[1;33m.\u001b[0m\u001b[0mdrop\u001b[0m\u001b[1;33m(\u001b[0m\u001b[0mcolumns\u001b[0m\u001b[1;33m=\u001b[0m\u001b[0mwiki_column\u001b[0m\u001b[1;33m,\u001b[0m \u001b[0minplace\u001b[0m\u001b[1;33m=\u001b[0m\u001b[1;32mTrue\u001b[0m\u001b[1;33m)\u001b[0m\u001b[1;33m\u001b[0m\u001b[1;33m\u001b[0m\u001b[0m\n\u001b[0m",
      "\u001b[1;32m~\\anaconda3\\envs\\PythonData\\lib\\site-packages\\pandas\\util\\_decorators.py\u001b[0m in \u001b[0;36mwrapper\u001b[1;34m(*args, **kwargs)\u001b[0m\n\u001b[0;32m    309\u001b[0m                     \u001b[0mstacklevel\u001b[0m\u001b[1;33m=\u001b[0m\u001b[0mstacklevel\u001b[0m\u001b[1;33m,\u001b[0m\u001b[1;33m\u001b[0m\u001b[1;33m\u001b[0m\u001b[0m\n\u001b[0;32m    310\u001b[0m                 )\n\u001b[1;32m--> 311\u001b[1;33m             \u001b[1;32mreturn\u001b[0m \u001b[0mfunc\u001b[0m\u001b[1;33m(\u001b[0m\u001b[1;33m*\u001b[0m\u001b[0margs\u001b[0m\u001b[1;33m,\u001b[0m \u001b[1;33m**\u001b[0m\u001b[0mkwargs\u001b[0m\u001b[1;33m)\u001b[0m\u001b[1;33m\u001b[0m\u001b[1;33m\u001b[0m\u001b[0m\n\u001b[0m\u001b[0;32m    312\u001b[0m \u001b[1;33m\u001b[0m\u001b[0m\n\u001b[0;32m    313\u001b[0m         \u001b[1;32mreturn\u001b[0m \u001b[0mwrapper\u001b[0m\u001b[1;33m\u001b[0m\u001b[1;33m\u001b[0m\u001b[0m\n",
      "\u001b[1;32m~\\anaconda3\\envs\\PythonData\\lib\\site-packages\\pandas\\core\\frame.py\u001b[0m in \u001b[0;36mdrop\u001b[1;34m(self, labels, axis, index, columns, level, inplace, errors)\u001b[0m\n\u001b[0;32m   4911\u001b[0m             \u001b[0mlevel\u001b[0m\u001b[1;33m=\u001b[0m\u001b[0mlevel\u001b[0m\u001b[1;33m,\u001b[0m\u001b[1;33m\u001b[0m\u001b[1;33m\u001b[0m\u001b[0m\n\u001b[0;32m   4912\u001b[0m             \u001b[0minplace\u001b[0m\u001b[1;33m=\u001b[0m\u001b[0minplace\u001b[0m\u001b[1;33m,\u001b[0m\u001b[1;33m\u001b[0m\u001b[1;33m\u001b[0m\u001b[0m\n\u001b[1;32m-> 4913\u001b[1;33m             \u001b[0merrors\u001b[0m\u001b[1;33m=\u001b[0m\u001b[0merrors\u001b[0m\u001b[1;33m,\u001b[0m\u001b[1;33m\u001b[0m\u001b[1;33m\u001b[0m\u001b[0m\n\u001b[0m\u001b[0;32m   4914\u001b[0m         )\n\u001b[0;32m   4915\u001b[0m \u001b[1;33m\u001b[0m\u001b[0m\n",
      "\u001b[1;32m~\\anaconda3\\envs\\PythonData\\lib\\site-packages\\pandas\\core\\generic.py\u001b[0m in \u001b[0;36mdrop\u001b[1;34m(self, labels, axis, index, columns, level, inplace, errors)\u001b[0m\n\u001b[0;32m   4148\u001b[0m         \u001b[1;32mfor\u001b[0m \u001b[0maxis\u001b[0m\u001b[1;33m,\u001b[0m \u001b[0mlabels\u001b[0m \u001b[1;32min\u001b[0m \u001b[0maxes\u001b[0m\u001b[1;33m.\u001b[0m\u001b[0mitems\u001b[0m\u001b[1;33m(\u001b[0m\u001b[1;33m)\u001b[0m\u001b[1;33m:\u001b[0m\u001b[1;33m\u001b[0m\u001b[1;33m\u001b[0m\u001b[0m\n\u001b[0;32m   4149\u001b[0m             \u001b[1;32mif\u001b[0m \u001b[0mlabels\u001b[0m \u001b[1;32mis\u001b[0m \u001b[1;32mnot\u001b[0m \u001b[1;32mNone\u001b[0m\u001b[1;33m:\u001b[0m\u001b[1;33m\u001b[0m\u001b[1;33m\u001b[0m\u001b[0m\n\u001b[1;32m-> 4150\u001b[1;33m                 \u001b[0mobj\u001b[0m \u001b[1;33m=\u001b[0m \u001b[0mobj\u001b[0m\u001b[1;33m.\u001b[0m\u001b[0m_drop_axis\u001b[0m\u001b[1;33m(\u001b[0m\u001b[0mlabels\u001b[0m\u001b[1;33m,\u001b[0m \u001b[0maxis\u001b[0m\u001b[1;33m,\u001b[0m \u001b[0mlevel\u001b[0m\u001b[1;33m=\u001b[0m\u001b[0mlevel\u001b[0m\u001b[1;33m,\u001b[0m \u001b[0merrors\u001b[0m\u001b[1;33m=\u001b[0m\u001b[0merrors\u001b[0m\u001b[1;33m)\u001b[0m\u001b[1;33m\u001b[0m\u001b[1;33m\u001b[0m\u001b[0m\n\u001b[0m\u001b[0;32m   4151\u001b[0m \u001b[1;33m\u001b[0m\u001b[0m\n\u001b[0;32m   4152\u001b[0m         \u001b[1;32mif\u001b[0m \u001b[0minplace\u001b[0m\u001b[1;33m:\u001b[0m\u001b[1;33m\u001b[0m\u001b[1;33m\u001b[0m\u001b[0m\n",
      "\u001b[1;32m~\\anaconda3\\envs\\PythonData\\lib\\site-packages\\pandas\\core\\generic.py\u001b[0m in \u001b[0;36m_drop_axis\u001b[1;34m(self, labels, axis, level, errors)\u001b[0m\n\u001b[0;32m   4183\u001b[0m                 \u001b[0mnew_axis\u001b[0m \u001b[1;33m=\u001b[0m \u001b[0maxis\u001b[0m\u001b[1;33m.\u001b[0m\u001b[0mdrop\u001b[0m\u001b[1;33m(\u001b[0m\u001b[0mlabels\u001b[0m\u001b[1;33m,\u001b[0m \u001b[0mlevel\u001b[0m\u001b[1;33m=\u001b[0m\u001b[0mlevel\u001b[0m\u001b[1;33m,\u001b[0m \u001b[0merrors\u001b[0m\u001b[1;33m=\u001b[0m\u001b[0merrors\u001b[0m\u001b[1;33m)\u001b[0m\u001b[1;33m\u001b[0m\u001b[1;33m\u001b[0m\u001b[0m\n\u001b[0;32m   4184\u001b[0m             \u001b[1;32melse\u001b[0m\u001b[1;33m:\u001b[0m\u001b[1;33m\u001b[0m\u001b[1;33m\u001b[0m\u001b[0m\n\u001b[1;32m-> 4185\u001b[1;33m                 \u001b[0mnew_axis\u001b[0m \u001b[1;33m=\u001b[0m \u001b[0maxis\u001b[0m\u001b[1;33m.\u001b[0m\u001b[0mdrop\u001b[0m\u001b[1;33m(\u001b[0m\u001b[0mlabels\u001b[0m\u001b[1;33m,\u001b[0m \u001b[0merrors\u001b[0m\u001b[1;33m=\u001b[0m\u001b[0merrors\u001b[0m\u001b[1;33m)\u001b[0m\u001b[1;33m\u001b[0m\u001b[1;33m\u001b[0m\u001b[0m\n\u001b[0m\u001b[0;32m   4186\u001b[0m             \u001b[0mresult\u001b[0m \u001b[1;33m=\u001b[0m \u001b[0mself\u001b[0m\u001b[1;33m.\u001b[0m\u001b[0mreindex\u001b[0m\u001b[1;33m(\u001b[0m\u001b[1;33m**\u001b[0m\u001b[1;33m{\u001b[0m\u001b[0maxis_name\u001b[0m\u001b[1;33m:\u001b[0m \u001b[0mnew_axis\u001b[0m\u001b[1;33m}\u001b[0m\u001b[1;33m)\u001b[0m\u001b[1;33m\u001b[0m\u001b[1;33m\u001b[0m\u001b[0m\n\u001b[0;32m   4187\u001b[0m \u001b[1;33m\u001b[0m\u001b[0m\n",
      "\u001b[1;32m~\\anaconda3\\envs\\PythonData\\lib\\site-packages\\pandas\\core\\indexes\\base.py\u001b[0m in \u001b[0;36mdrop\u001b[1;34m(self, labels, errors)\u001b[0m\n\u001b[0;32m   6015\u001b[0m         \u001b[1;32mif\u001b[0m \u001b[0mmask\u001b[0m\u001b[1;33m.\u001b[0m\u001b[0many\u001b[0m\u001b[1;33m(\u001b[0m\u001b[1;33m)\u001b[0m\u001b[1;33m:\u001b[0m\u001b[1;33m\u001b[0m\u001b[1;33m\u001b[0m\u001b[0m\n\u001b[0;32m   6016\u001b[0m             \u001b[1;32mif\u001b[0m \u001b[0merrors\u001b[0m \u001b[1;33m!=\u001b[0m \u001b[1;34m\"ignore\"\u001b[0m\u001b[1;33m:\u001b[0m\u001b[1;33m\u001b[0m\u001b[1;33m\u001b[0m\u001b[0m\n\u001b[1;32m-> 6017\u001b[1;33m                 \u001b[1;32mraise\u001b[0m \u001b[0mKeyError\u001b[0m\u001b[1;33m(\u001b[0m\u001b[1;34mf\"{labels[mask]} not found in axis\"\u001b[0m\u001b[1;33m)\u001b[0m\u001b[1;33m\u001b[0m\u001b[1;33m\u001b[0m\u001b[0m\n\u001b[0m\u001b[0;32m   6018\u001b[0m             \u001b[0mindexer\u001b[0m \u001b[1;33m=\u001b[0m \u001b[0mindexer\u001b[0m\u001b[1;33m[\u001b[0m\u001b[1;33m~\u001b[0m\u001b[0mmask\u001b[0m\u001b[1;33m]\u001b[0m\u001b[1;33m\u001b[0m\u001b[1;33m\u001b[0m\u001b[0m\n\u001b[0;32m   6019\u001b[0m         \u001b[1;32mreturn\u001b[0m \u001b[0mself\u001b[0m\u001b[1;33m.\u001b[0m\u001b[0mdelete\u001b[0m\u001b[1;33m(\u001b[0m\u001b[0mindexer\u001b[0m\u001b[1;33m)\u001b[0m\u001b[1;33m\u001b[0m\u001b[1;33m\u001b[0m\u001b[0m\n",
      "\u001b[1;31mKeyError\u001b[0m: \"['running_time'] not found in axis\""
     ]
    }
   ],
   "source": [
    "fill_missing_kaggle_data(movies_df, 'runtime', 'running_time')\n",
    "fill_missing_kaggle_data(movies_df, 'budget_kaggle', 'budget_wiki')\n",
    "fill_missing_kaggle_data(movies_df, 'revenue', 'box_office')\n",
    "#movies_df"
   ]
  },
  {
   "cell_type": "code",
   "execution_count": 323,
   "id": "6fbce74a",
   "metadata": {},
   "outputs": [
    {
     "name": "stdout",
     "output_type": "stream",
     "text": [
      "video\n"
     ]
    }
   ],
   "source": [
    "for col in movies_df.columns:\n",
    "    lists_to_tuples = lambda x: tuple(x) if type(x) == list else x\n",
    "    value_counts = movies_df[col].apply(lists_to_tuples).value_counts(dropna=False)\n",
    "    num_values = len(value_counts)\n",
    "    if num_values == 1:\n",
    "        print(col)"
   ]
  },
  {
   "cell_type": "code",
   "execution_count": 325,
   "id": "19552458",
   "metadata": {},
   "outputs": [],
   "source": [
    "movies_df.drop(columns=['video'], inplace=True)"
   ]
  },
  {
   "cell_type": "code",
   "execution_count": 326,
   "id": "42b5d603",
   "metadata": {},
   "outputs": [],
   "source": [
    "movies_df = movies_df.loc[:, ['imdb_id','id','title_kaggle','original_title','tagline','belongs_to_collection','url','imdb_link',\n",
    "                       'runtime','budget_kaggle','revenue','release_date_kaggle','popularity','vote_average','vote_count',\n",
    "                       'genres','original_language','overview','spoken_languages','Country',\n",
    "                       'production_companies','production_countries','Distributor',\n",
    "                       'Producer(s)','Director','Starring','Cinematography','Editor(s)','Writer(s)','Composer(s)','Based on'\n",
    "                      ]]"
   ]
  },
  {
   "cell_type": "code",
   "execution_count": 327,
   "id": "6094e669",
   "metadata": {},
   "outputs": [],
   "source": [
    "movies_df.rename({'id':'kaggle_id',\n",
    "                  'title_kaggle':'title',\n",
    "                  'url':'wikipedia_url',\n",
    "                  'budget_kaggle':'budget',\n",
    "                  'release_date_kaggle':'release_date',\n",
    "                  'Country':'country',\n",
    "                  'Distributor':'distributor',\n",
    "                  'Producer(s)':'producers',\n",
    "                  'Director':'director',\n",
    "                  'Starring':'starring',\n",
    "                  'Cinematography':'cinematography',\n",
    "                  'Editor(s)':'editors',\n",
    "                  'Writer(s)':'writers',\n",
    "                  'Composer(s)':'composers',\n",
    "                  'Based on':'based_on'\n",
    "                 }, axis='columns', inplace=True)"
   ]
  },
  {
   "cell_type": "code",
   "execution_count": null,
   "id": "b8cde25d",
   "metadata": {},
   "outputs": [],
   "source": []
  },
  {
   "cell_type": "code",
   "execution_count": null,
   "id": "7667eee2",
   "metadata": {},
   "outputs": [],
   "source": []
  },
  {
   "cell_type": "code",
   "execution_count": null,
   "id": "a72f9a6c",
   "metadata": {},
   "outputs": [],
   "source": []
  }
 ],
 "metadata": {
  "kernelspec": {
   "display_name": "PythonData",
   "language": "python",
   "name": "pythondata"
  },
  "language_info": {
   "codemirror_mode": {
    "name": "ipython",
    "version": 3
   },
   "file_extension": ".py",
   "mimetype": "text/x-python",
   "name": "python",
   "nbconvert_exporter": "python",
   "pygments_lexer": "ipython3",
   "version": "3.7.13"
  }
 },
 "nbformat": 4,
 "nbformat_minor": 5
}
